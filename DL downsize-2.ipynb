{
 "cells": [
  {
   "cell_type": "markdown",
   "id": "08224c76",
   "metadata": {},
   "source": [
    "Downsize para versão reduzida deste dataset : https://www.kaggle.com/datasets/xhlulu/140k-real-and-fake-faces/data"
   ]
  },
  {
   "cell_type": "code",
   "execution_count": 1,
   "id": "17d72ef1",
   "metadata": {},
   "outputs": [],
   "source": [
    "import os\n",
    "import random\n",
    "import shutil"
   ]
  },
  {
   "cell_type": "code",
   "execution_count": 2,
   "id": "d1348998",
   "metadata": {},
   "outputs": [
    {
     "name": "stdout",
     "output_type": "stream",
     "text": [
      "Copied 4666 files to /Volumes/TOSHIBA EXT/archive/reduced_dataset/train/real\n",
      "Copied 4666 files to /Volumes/TOSHIBA EXT/archive/reduced_dataset/train/fake\n",
      "Copied 4666 files to /Volumes/TOSHIBA EXT/archive/reduced_dataset/valid/real\n",
      "Copied 4666 files to /Volumes/TOSHIBA EXT/archive/reduced_dataset/valid/fake\n",
      "Copied 4666 files to /Volumes/TOSHIBA EXT/archive/reduced_dataset/test/real\n",
      "Copied 4666 files to /Volumes/TOSHIBA EXT/archive/reduced_dataset/test/fake\n"
     ]
    }
   ],
   "source": [
    "random.seed(42)\n",
    "\n",
    "original_dataset_path = \"/Volumes/TOSHIBA EXT/archive/real_vs_fake/real-vs-fake\"\n",
    "reduced_dataset_path = \"/Volumes/TOSHIBA EXT/archive/reduced_dataset\"\n",
    "keep_count = 4666\n",
    "\n",
    "for split in [\"train\", \"valid\", \"test\"]:\n",
    "    for label in [\"real\", \"fake\"]:\n",
    "        src_folder = os.path.join(original_dataset_path, split, label)\n",
    "        dst_folder = os.path.join(reduced_dataset_path, split, label)\n",
    "        os.makedirs(dst_folder, exist_ok=True)\n",
    "\n",
    "        all_files = [f for f in os.listdir(src_folder) if os.path.isfile(os.path.join(src_folder, f))]\n",
    "        selected_files = random.sample(all_files, min(keep_count, len(all_files)))\n",
    "\n",
    "        for file in selected_files:\n",
    "            shutil.copy(os.path.join(src_folder, file), os.path.join(dst_folder, file))\n",
    "\n",
    "        print(f\"Copied {len(selected_files)} files to {dst_folder}\")"
   ]
  },
  {
   "cell_type": "code",
   "execution_count": null,
   "id": "66e696ae",
   "metadata": {},
   "outputs": [],
   "source": []
  }
 ],
 "metadata": {
  "kernelspec": {
   "display_name": "Python 3 (ipykernel)",
   "language": "python",
   "name": "python3"
  },
  "language_info": {
   "codemirror_mode": {
    "name": "ipython",
    "version": 3
   },
   "file_extension": ".py",
   "mimetype": "text/x-python",
   "name": "python",
   "nbconvert_exporter": "python",
   "pygments_lexer": "ipython3",
   "version": "3.9.12"
  }
 },
 "nbformat": 4,
 "nbformat_minor": 5
}
